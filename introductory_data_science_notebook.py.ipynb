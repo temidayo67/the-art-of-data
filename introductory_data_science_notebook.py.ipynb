{
 "cells": [
  {
   "cell_type": "markdown",
   "id": "fd0cadad",
   "metadata": {},
   "source": [
    "# My Jupyter Notebook On IBM Watson Studio"
   ]
  },
  {
   "cell_type": "markdown",
   "id": "6a69e149",
   "metadata": {},
   "source": [
    "**Muhammed Dayo Alabi**\n",
    "\n",
    "Data Scientist\n"
   ]
  },
  {
   "cell_type": "markdown",
   "id": "a5b0b183",
   "metadata": {},
   "source": [
    "*I am interested in data science because I find it intruiging and I'm generally an inquisitive person, so yeah.* *I also have an interest in python programming and data science seems like the right path*"
   ]
  },
  {
   "cell_type": "markdown",
   "id": "1f244d53",
   "metadata": {},
   "source": [
    "### The code below determines whether a person is an adult hence is eligible to drive"
   ]
  },
  {
   "cell_type": "code",
   "execution_count": 1,
   "id": "dc82f392",
   "metadata": {},
   "outputs": [
    {
     "name": "stdout",
     "output_type": "stream",
     "text": [
      "age: 23\n",
      "You're an adult, hence you're eligible to drive\n"
     ]
    }
   ],
   "source": [
    "age = int(input(\"age: \"))\n",
    "if age < 18:\n",
    "    print(\"You are not an adult, hence you're not eligible to drive\")\n",
    "elif age >= 18:\n",
    "    print(\"You're an adult, hence you're eligible to drive\")"
   ]
  },
  {
   "cell_type": "markdown",
   "id": "2b2b3e00",
   "metadata": {},
   "source": [
    "1. First item\n",
    "2. Second item\n",
    "3. Third item\n",
    "\n",
    "~~This text will be crossed out.~~\n",
    "\n",
    "| Column 1 | Column 2 | Column 3 |\n",
    "| -------- | -------- | -------- |\n",
    "| Row 1, Column 1 | Row 1, Column 2 | Row 1, Column 3 |\n",
    "| Row 2, Column 1 | Row 2, Column 2 | Row 2, Column 3 |\n",
    "| Row 3, Column 1 | Row 3, Column 2 | Row 3, Column 3 |\n"
   ]
  }
 ],
 "metadata": {
  "kernelspec": {
   "display_name": "Python 3 (ipykernel)",
   "language": "python",
   "name": "python3"
  },
  "language_info": {
   "codemirror_mode": {
    "name": "ipython",
    "version": 3
   },
   "file_extension": ".py",
   "mimetype": "text/x-python",
   "name": "python",
   "nbconvert_exporter": "python",
   "pygments_lexer": "ipython3",
   "version": "3.9.13"
  }
 },
 "nbformat": 4,
 "nbformat_minor": 5
}
